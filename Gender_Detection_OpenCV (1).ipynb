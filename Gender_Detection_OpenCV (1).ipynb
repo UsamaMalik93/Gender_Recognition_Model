{
 "cells": [
  {
   "cell_type": "code",
   "execution_count": 18,
   "id": "77689c66",
   "metadata": {},
   "outputs": [],
   "source": [
    "import pandas as pd\n",
    "import numpy as np\n",
    "import matplotlib.pyplot as plt\n",
    "import cv2\n",
    "import random\n",
    "import os\n",
    "import glob\n",
    "from tensorflow.keras.layers import Dense , BatchNormalization, Dropout, Activation, Flatten, Conv2D, MaxPooling2D\n",
    "from sklearn.model_selection import train_test_split\n",
    "from tensorflow.keras.utils import to_categorical, plot_model\n",
    "from tensorflow.keras.models import Sequential\n",
    "from tensorflow.keras.preprocessing.image import img_to_array\n",
    "from tensorflow.keras import backend as K\n",
    "from tensorflow.keras.preprocessing.image import ImageDataGenerator\n",
    "from tensorflow.keras.optimizers import Adam"
   ]
  },
  {
   "cell_type": "markdown",
   "id": "64516382",
   "metadata": {},
   "source": [
    "# Initializing Parameters"
   ]
  },
  {
   "cell_type": "code",
   "execution_count": 19,
   "id": "428fce96",
   "metadata": {},
   "outputs": [],
   "source": [
    "Image_dimensions=(96,96,3)# width, height, depth \n",
    "lr=1e-3\n",
    "batch_size=64\n",
    "epochs=10\n",
    "\n",
    "Images_data=[]\n",
    "labels_data=[]"
   ]
  },
  {
   "cell_type": "markdown",
   "id": "1ef2c453",
   "metadata": {},
   "source": [
    "# Load_Dataset "
   ]
  },
  {
   "cell_type": "code",
   "execution_count": 20,
   "id": "38cb33f5",
   "metadata": {},
   "outputs": [],
   "source": [
    "Images_Dataset=[f for f in glob.glob (r'C:\\\\Users\\\\Dell\\\\Downloads\\\\Gender-Detection-master1\\\\Gender-Detection-master\\\\gender_dataset_face' +\n",
    "                                     '//**//*',recursive=True) if not os.path.isdir(f)]"
   ]
  },
  {
   "cell_type": "code",
   "execution_count": 21,
   "id": "64046aea",
   "metadata": {},
   "outputs": [],
   "source": [
    "random.shuffle(Images_Dataset)"
   ]
  },
  {
   "cell_type": "markdown",
   "id": "462580f4",
   "metadata": {},
   "source": [
    "# Convert Images to array and labels to categories"
   ]
  },
  {
   "cell_type": "code",
   "execution_count": 22,
   "id": "86b50f70",
   "metadata": {},
   "outputs": [],
   "source": [
    "for all_images in Images_Dataset:\n",
    "    Images=cv2.imread(all_images)\n",
    "    Images=cv2.resize(Images, (Image_dimensions[0],Image_dimensions[1]))\n",
    "    Images=img_to_array(Images)\n",
    "    \n",
    "    Images_data.append(Images)\n",
    "    \n",
    "    Labels=all_images.split(os.path.sep)[-2]\n",
    "    if Labels=='woman':\n",
    "        Labels=0\n",
    "    else:\n",
    "        Labels=1\n",
    "   \n",
    "    labels_data.append([Labels])"
   ]
  },
  {
   "cell_type": "markdown",
   "id": "9d166446",
   "metadata": {},
   "source": [
    "# Images and Labels Preprocessing"
   ]
  },
  {
   "cell_type": "code",
   "execution_count": 23,
   "id": "67af9b0a",
   "metadata": {},
   "outputs": [],
   "source": [
    "Images_data=np.array(Images_data, dtype='float')/255.0\n",
    "labels_data=np.array(labels_data)"
   ]
  },
  {
   "cell_type": "code",
   "execution_count": 24,
   "id": "26f7e196",
   "metadata": {},
   "outputs": [],
   "source": [
    "(X_train,X_test,y_train,y_test)=train_test_split(Images_data, labels_data, test_size=0.2, random_state=42)"
   ]
  },
  {
   "cell_type": "code",
   "execution_count": 25,
   "id": "91e8928c",
   "metadata": {},
   "outputs": [],
   "source": [
    "y_train=to_categorical(y_train, num_classes=2)\n",
    "y_test=to_categorical(y_test, num_classes=2)"
   ]
  },
  {
   "cell_type": "markdown",
   "id": "19c4f9ff",
   "metadata": {},
   "source": [
    "# Data Argumentation"
   ]
  },
  {
   "cell_type": "code",
   "execution_count": 26,
   "id": "6ddec65f",
   "metadata": {},
   "outputs": [],
   "source": [
    "data_argumented=ImageDataGenerator(rotation_range=25, width_shift_range=0.1, height_shift_range=0.1,\n",
    "                                  shear_range=0.2, zoom_range=0.2, horizontal_flip=True, fill_mode='nearest')"
   ]
  },
  {
   "cell_type": "markdown",
   "id": "484c9579",
   "metadata": {},
   "source": [
    "# Model"
   ]
  },
  {
   "cell_type": "code",
   "execution_count": 27,
   "id": "75099b10",
   "metadata": {},
   "outputs": [],
   "source": [
    "def model_building(width, height,rgb_channels, no_of_categories):\n",
    "    model=Sequential()\n",
    "    Shape=(width,height,rgb_channels) #for rgb--> channels_last\n",
    "    channel_dims=-1\n",
    "    \n",
    "    if K.image_data_format=='channels_first':\n",
    "        Shape=(rgb_channels, width, height) # for rgb --> channels_first\n",
    "        channel_dims=1\n",
    "    \n",
    "    model.add(Conv2D(32,(3,3), padding='same',input_shape=Shape))\n",
    "    model.add(Activation('relu'))\n",
    "    model.add(BatchNormalization(axis=channel_dims))\n",
    "    model.add(MaxPooling2D(pool_size=(3,3)))\n",
    "    model.add(Dropout(0.25))\n",
    "    \n",
    "    model.add(Conv2D(64,(3,3),padding='same'))\n",
    "    model.add(Activation('relu'))\n",
    "    model.add(BatchNormalization(axis=channel_dims))\n",
    "    \n",
    "    model.add(Conv2D(64,(3,3),padding='same'))\n",
    "    model.add(Activation('relu'))\n",
    "    model.add(BatchNormalization(axis=channel_dims))\n",
    "    model.add(MaxPooling2D(pool_size=(2,2)))\n",
    "    model.add(Dropout(0.25))\n",
    "    \n",
    "    model.add(Conv2D(128,(3,3),padding='same'))\n",
    "    model.add(Activation('relu'))\n",
    "    model.add(BatchNormalization(axis=channel_dims))\n",
    "    \n",
    "    model.add(Conv2D(128,(3,3),padding='same'))\n",
    "    model.add(Activation('relu'))\n",
    "    model.add(BatchNormalization(axis=channel_dims))\n",
    "    model.add(MaxPooling2D(pool_size=(2,2)))\n",
    "    model.add(Dropout(0.25))\n",
    "    \n",
    "    model.add(Flatten())\n",
    "    model.add(Dense(1024))\n",
    "    model.add(Activation('relu'))\n",
    "    model.add(BatchNormalization())#<---\n",
    "    model.add(Dropout(0.5))\n",
    "    \n",
    "    model.add(Dense(no_of_categories))\n",
    "    model.add(Activation('sigmoid'))\n",
    "    \n",
    "    return model"
   ]
  },
  {
   "cell_type": "code",
   "execution_count": 28,
   "id": "c1638c0e",
   "metadata": {},
   "outputs": [],
   "source": [
    "model=model_building(Image_dimensions[0],Image_dimensions[1],Image_dimensions[2],no_of_categories=2)"
   ]
  },
  {
   "cell_type": "markdown",
   "id": "265b803e",
   "metadata": {},
   "source": [
    "# Compilation 0f Model"
   ]
  },
  {
   "cell_type": "code",
   "execution_count": 29,
   "id": "e904c871",
   "metadata": {},
   "outputs": [
    {
     "name": "stderr",
     "output_type": "stream",
     "text": [
      "C:\\Vs\\anaconda3\\lib\\site-packages\\keras\\optimizers\\optimizer_v2\\adam.py:110: UserWarning: The `lr` argument is deprecated, use `learning_rate` instead.\n",
      "  super(Adam, self).__init__(name, **kwargs)\n"
     ]
    }
   ],
   "source": [
    "optimizer=Adam(lr=lr,decay=lr/epochs)\n"
   ]
  },
  {
   "cell_type": "code",
   "execution_count": 30,
   "id": "9c7e836f",
   "metadata": {},
   "outputs": [],
   "source": [
    "model.compile(loss='binary_crossentropy',optimizer=optimizer, metrics=['accuracy'])"
   ]
  },
  {
   "cell_type": "markdown",
   "id": "93de13e4",
   "metadata": {},
   "source": [
    "# Training Model"
   ]
  },
  {
   "cell_type": "code",
   "execution_count": 35,
   "id": "da579379",
   "metadata": {},
   "outputs": [
    {
     "name": "stderr",
     "output_type": "stream",
     "text": [
      "C:\\Users\\Dell\\AppData\\Local\\Temp\\ipykernel_8340\\3980599366.py:1: UserWarning: `Model.fit_generator` is deprecated and will be removed in a future version. Please use `Model.fit`, which supports generators.\n",
      "  History=model.fit_generator(data_argumented.flow(X_train, y_train, batch_size=batch_size),\n"
     ]
    },
    {
     "name": "stdout",
     "output_type": "stream",
     "text": [
      "Epoch 1/10\n",
      "28/28 [==============================] - 68s 2s/step - loss: 0.4547 - accuracy: 0.8231 - val_loss: 0.7243 - val_accuracy: 0.5130\n",
      "Epoch 2/10\n",
      "28/28 [==============================] - 66s 2s/step - loss: 0.3966 - accuracy: 0.8467 - val_loss: 0.6473 - val_accuracy: 0.6364\n",
      "Epoch 3/10\n",
      "28/28 [==============================] - 66s 2s/step - loss: 0.3555 - accuracy: 0.8613 - val_loss: 1.6786 - val_accuracy: 0.5195\n",
      "Epoch 4/10\n",
      "28/28 [==============================] - 67s 2s/step - loss: 0.3445 - accuracy: 0.8754 - val_loss: 1.9257 - val_accuracy: 0.5195\n",
      "Epoch 5/10\n",
      "28/28 [==============================] - 66s 2s/step - loss: 0.2981 - accuracy: 0.8905 - val_loss: 1.9891 - val_accuracy: 0.5195\n",
      "Epoch 6/10\n",
      "28/28 [==============================] - 67s 2s/step - loss: 0.2779 - accuracy: 0.8989 - val_loss: 1.3263 - val_accuracy: 0.5260\n",
      "Epoch 7/10\n",
      "28/28 [==============================] - 68s 2s/step - loss: 0.2411 - accuracy: 0.9096 - val_loss: 0.6956 - val_accuracy: 0.6277\n",
      "Epoch 8/10\n",
      "28/28 [==============================] - 65s 2s/step - loss: 0.2094 - accuracy: 0.9253 - val_loss: 2.5357 - val_accuracy: 0.5216\n",
      "Epoch 9/10\n",
      "28/28 [==============================] - 65s 2s/step - loss: 0.2096 - accuracy: 0.9186 - val_loss: 1.9056 - val_accuracy: 0.5260\n",
      "Epoch 10/10\n",
      "28/28 [==============================] - 65s 2s/step - loss: 0.2035 - accuracy: 0.9253 - val_loss: 1.3394 - val_accuracy: 0.5736\n"
     ]
    }
   ],
   "source": [
    "History=model.fit_generator(data_argumented.flow(X_train, y_train, batch_size=batch_size),\n",
    "                             validation_data=(X_test, y_test), steps_per_epoch=len(X_train)//batch_size,\n",
    "                             epochs=epochs, verbose=1)"
   ]
  },
  {
   "cell_type": "code",
   "execution_count": 36,
   "id": "2527b308",
   "metadata": {},
   "outputs": [
    {
     "name": "stderr",
     "output_type": "stream",
     "text": [
      "WARNING:absl:Found untraced functions such as _jit_compiled_convolution_op, _jit_compiled_convolution_op, _jit_compiled_convolution_op, _jit_compiled_convolution_op, _jit_compiled_convolution_op while saving (showing 5 of 5). These functions will not be directly callable after loading.\n"
     ]
    },
    {
     "name": "stdout",
     "output_type": "stream",
     "text": [
      "INFO:tensorflow:Assets written to: Gender_Detector_System\\assets\n"
     ]
    },
    {
     "name": "stderr",
     "output_type": "stream",
     "text": [
      "INFO:tensorflow:Assets written to: Gender_Detector_System\\assets\n"
     ]
    }
   ],
   "source": [
    "model.save(\"Gender_Detector_System\")"
   ]
  },
  {
   "cell_type": "markdown",
   "id": "e1f82e81",
   "metadata": {},
   "source": [
    "# Plotting"
   ]
  },
  {
   "cell_type": "code",
   "execution_count": 37,
   "id": "88da4978",
   "metadata": {},
   "outputs": [
    {
     "data": {
      "text/plain": [
       "<Figure size 360x360 with 0 Axes>"
      ]
     },
     "execution_count": 37,
     "metadata": {},
     "output_type": "execute_result"
    },
    {
     "data": {
      "text/plain": [
       "<Figure size 360x360 with 0 Axes>"
      ]
     },
     "metadata": {},
     "output_type": "display_data"
    }
   ],
   "source": [
    "plt.style.use('ggplot')\n",
    "plt.figure(figsize=(5,5))\n"
   ]
  },
  {
   "cell_type": "code",
   "execution_count": 38,
   "id": "49ca26c0",
   "metadata": {},
   "outputs": [
    {
     "data": {
      "image/png": "[encoded data removed]",
      "text/plain": [
       "<Figure size 432x288 with 1 Axes>"
      ]
     },
     "metadata": {},
     "output_type": "display_data"
    }
   ],
   "source": [
    "plt.plot(np.arange(0,epochs),History.history['loss'],label='Training_Loss')\n",
    "plt.plot(np.arange(0,epochs),History.history['val_loss'],label='Validation_Loss')\n",
    "plt.plot(np.arange(0,epochs),History.history['accuracy'],label='Training_Accuracy')\n",
    "plt.plot(np.arange(0,epochs),History.history['val_accuracy'],label='Validation_Accuracy')\n",
    "\n",
    "plt.title(\"Training Loss and Accuracy\")\n",
    "plt.xlabel('No_of_Epochs')\n",
    "plt.ylabel('Loss/Accuracy')\n",
    "plt.legend(loc='upper right')\n",
    "plt.show()"
   ]
  },
  {
   "cell_type": "code",
   "execution_count": 39,
   "id": "c0658658",
   "metadata": {},
   "outputs": [
    {
     "data": {
      "text/plain": [
       "<Figure size 432x288 with 0 Axes>"
      ]
     },
     "metadata": {},
     "output_type": "display_data"
    }
   ],
   "source": [
    "plt.savefig(\"Gender_Detection_plot\")"
   ]
  },
  {
   "cell_type": "code",
   "execution_count": null,
   "id": "0662b29f",
   "metadata": {},
   "outputs": [],
   "source": []
  }
 ],
 "metadata": {
  "kernelspec": {
   "display_name": "Python 3 (ipykernel)",
   "language": "python",
   "name": "python3"
  },
  "language_info": {
   "codemirror_mode": {
    "name": "ipython",
    "version": 3
   },
   "file_extension": ".py",
   "mimetype": "text/x-python",
   "name": "python",
   "nbconvert_exporter": "python",
   "pygments_lexer": "ipython3",
   "version": "3.9.12"
  }
 },
 "nbformat": 4,
 "nbformat_minor": 5
}
